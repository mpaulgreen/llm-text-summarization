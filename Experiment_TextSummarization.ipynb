{
 "cells": [
  {
   "cell_type": "code",
   "execution_count": 21,
   "id": "2978009b-ffe1-426c-8d58-8eb1f97f95c9",
   "metadata": {},
   "outputs": [],
   "source": [
    "from langchain.chains.llm import LLMChain\n",
    "from langchain.prompts import PromptTemplate"
   ]
  },
  {
   "cell_type": "code",
   "execution_count": 22,
   "id": "36acd938-ee48-436b-bc79-7470bd51ae63",
   "metadata": {},
   "outputs": [],
   "source": [
    "__import__('pysqlite3')\n",
    "import sys\n",
    "sys.modules['sqlite3'] = sys.modules.pop('pysqlite3')"
   ]
  },
  {
   "cell_type": "markdown",
   "id": "0246b964-d9cf-4ce7-b249-d59907df8cb2",
   "metadata": {},
   "source": [
    "## Create a summary chain using map reduce"
   ]
  },
  {
   "cell_type": "code",
   "execution_count": 23,
   "id": "d7679586-c33d-457a-bf25-d7cab60608b3",
   "metadata": {},
   "outputs": [],
   "source": [
    "prompt_template = \"\"\"Write a concise summary of the following:\n",
    "\n",
    "\n",
    "{text}\n",
    "\n",
    "\n",
    "CONCISE SUMMARY IN GERMAN:\"\"\"\n",
    "PROMPT = PromptTemplate(template=prompt_template, input_variables=[\"text\"])"
   ]
  },
  {
   "cell_type": "code",
   "execution_count": 24,
   "id": "6620bb89-dfe9-41dc-aadf-c673b2b76f0a",
   "metadata": {},
   "outputs": [],
   "source": [
    "from langchain.chains.summarize import load_summarize_chain\n",
    "from langchain.llms import HuggingFaceTextGenInference\n",
    "\n",
    "inference_server_url = \"\"\n",
    "llm = HuggingFaceTextGenInference(\n",
    "    inference_server_url=inference_server_url,\n",
    "    max_new_tokens=512,\n",
    "    top_k=10,\n",
    "    top_p=0.95,\n",
    "    typical_p=0.95,\n",
    "    temperature=0.1,\n",
    "    repetition_penalty=1.175\n",
    ")\n",
    "summary_chain = load_summarize_chain(llm, chain_type=\"map_reduce\", map_prompt=PROMPT, combine_prompt=PROMPT)"
   ]
  },
  {
   "cell_type": "code",
   "execution_count": 25,
   "id": "6eac0a69-05e9-4458-a7c6-aa93d5d49c22",
   "metadata": {},
   "outputs": [],
   "source": [
    "from langchain.chains import AnalyzeDocumentChain\n",
    "\n",
    "summarize_document_chain = AnalyzeDocumentChain(combine_docs_chain=summary_chain)"
   ]
  },
  {
   "cell_type": "code",
   "execution_count": 26,
   "id": "260c6cd4-c6f2-4445-8eb4-2f63224c8803",
   "metadata": {},
   "outputs": [],
   "source": [
    "from langchain.document_loaders import PyPDFDirectoryLoader\n",
    "\n",
    "pdf_folder_path = 'pdfs'\n",
    "\n",
    "loader = PyPDFDirectoryLoader(pdf_folder_path)\n",
    "docs = loader.load()"
   ]
  },
  {
   "cell_type": "code",
   "execution_count": 27,
   "id": "88ad9dcd-ddb0-4e59-a7d3-4cc8648ce5ae",
   "metadata": {},
   "outputs": [],
   "source": [
    "from langchain.text_splitter import RecursiveCharacterTextSplitter\n",
    "\n",
    "text_splitter = RecursiveCharacterTextSplitter(chunk_size = 1024, chunk_overlap = 40)\n",
    "all_splits = text_splitter.split_documents(docs)"
   ]
  },
  {
   "cell_type": "code",
   "execution_count": 28,
   "id": "e4348e26-13bf-4a72-94b0-a8a34d23664b",
   "metadata": {},
   "outputs": [],
   "source": [
    "from langchain.embeddings.huggingface import HuggingFaceEmbeddings\n",
    "from langchain.vectorstores import Chroma\n",
    "\n",
    "vectorstore = Chroma.from_documents(documents=all_splits, embedding=HuggingFaceEmbeddings())"
   ]
  },
  {
   "cell_type": "code",
   "execution_count": 30,
   "id": "21c2d2f7-f443-4083-8424-543071c775d2",
   "metadata": {},
   "outputs": [],
   "source": [
    "from langchain.vectorstores import Chroma\n",
    "from langchain.chains import RetrievalQA\n",
    "db_retriever = vectorstore.as_retriever()\n",
    "langchain_qa = RetrievalQA.from_chain_type(llm=llm, \n",
    "                                 chain_type=\"stuff\", \n",
    "                                 retriever=db_retriever)"
   ]
  },
  {
   "cell_type": "code",
   "execution_count": 31,
   "id": "c8375980-9b33-45b4-bb32-954b31de402c",
   "metadata": {},
   "outputs": [],
   "source": [
    "def summarize_output(topic):\n",
    "  relevant_data = langchain_qa(topic)\n",
    "  #print(relevant_data)\n",
    "  summary = summarize_document_chain.run(relevant_data['result'])\n",
    "  return summary"
   ]
  },
  {
   "cell_type": "code",
   "execution_count": 32,
   "id": "54822251-f866-41f0-851a-1013314f93ca",
   "metadata": {},
   "outputs": [],
   "source": [
    "query = 'Langchain concepts'"
   ]
  },
  {
   "cell_type": "code",
   "execution_count": 33,
   "id": "2efca38e-1516-4513-a3f1-4eeb3318602f",
   "metadata": {},
   "outputs": [
    {
     "data": {
      "text/plain": [
       "'\\n\\nDas LangChain-Rahmenwerk ist eine Basis für zwei Schlüsselprinzipien: Datenbewusstsein und Agentik. Mit dem Datenbewusstsein wird ein Sprachmodell mit anderen Quellen von Daten verbunden, während die Agentik erlaubt, dass ein Sprachmodell seine Umgebung interagieren kann. Dies ermöglicht Entwicklern, mehr mächtige und unterschiedliche Anwendungen zu entwickeln als nur einen Sprachmodell anzurufen.'"
      ]
     },
     "execution_count": 33,
     "metadata": {},
     "output_type": "execute_result"
    }
   ],
   "source": [
    "summarize_output(query)"
   ]
  },
  {
   "cell_type": "code",
   "execution_count": null,
   "id": "4cb97013-845d-452c-93bc-c636712fc128",
   "metadata": {},
   "outputs": [],
   "source": []
  }
 ],
 "metadata": {
  "kernelspec": {
   "display_name": "Python 3.9",
   "language": "python",
   "name": "python3"
  },
  "language_info": {
   "codemirror_mode": {
    "name": "ipython",
    "version": 3
   },
   "file_extension": ".py",
   "mimetype": "text/x-python",
   "name": "python",
   "nbconvert_exporter": "python",
   "pygments_lexer": "ipython3",
   "version": "3.9.16"
  }
 },
 "nbformat": 4,
 "nbformat_minor": 5
}
