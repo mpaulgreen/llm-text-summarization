{
 "cells": [
  {
   "cell_type": "markdown",
   "id": "1d72b7b2-d206-4c86-9a8b-a608ed0b751d",
   "metadata": {},
   "source": [
    "# Performant with mistrial model"
   ]
  },
  {
   "cell_type": "markdown",
   "id": "2bd663b2-3033-4951-b58f-63615cc5b3e7",
   "metadata": {},
   "source": [
    "## Retreive Embeddings"
   ]
  },
  {
   "cell_type": "code",
   "execution_count": 1,
   "id": "8ca61a62-c733-425b-b6bb-3f0aaa02f9a0",
   "metadata": {},
   "outputs": [],
   "source": [
    "redis_url = \"\"\n",
    "index_name = \"projects\"\n",
    "inference_server_url=\"\"\n",
    "schema_name = \"projects_schema.yaml\""
   ]
  },
  {
   "cell_type": "code",
   "execution_count": 18,
   "id": "2543b98f-4fd1-439c-975b-41946d633f4d",
   "metadata": {},
   "outputs": [],
   "source": [
    "from langchain.embeddings.huggingface import HuggingFaceEmbeddings\n",
    "from langchain.vectorstores.redis import Redis\n",
    "from langchain.schema import Document\n",
    "from langchain.prompts import PromptTemplate\n",
    "from langchain.chains.llm import LLMChain\n",
    "from langchain.llms import HuggingFaceTextGenInference\n",
    "from langchain.chains.summarize import load_summarize_chain\n",
    "from langchain.chains import AnalyzeDocumentChain\n",
    "from langchain.chains import RetrievalQA"
   ]
  },
  {
   "cell_type": "code",
   "execution_count": 3,
   "id": "3cdb4999-8d30-4d1c-a8f4-1e4c05043289",
   "metadata": {},
   "outputs": [
    {
     "name": "stderr",
     "output_type": "stream",
     "text": [
      "/opt/app-root/lib64/python3.9/site-packages/tqdm/auto.py:21: TqdmWarning: IProgress not found. Please update jupyter and ipywidgets. See https://ipywidgets.readthedocs.io/en/stable/user_install.html\n",
      "  from .autonotebook import tqdm as notebook_tqdm\n"
     ]
    }
   ],
   "source": [
    "embeddings = HuggingFaceEmbeddings()\n",
    "vectorstore = Redis.from_existing_index(\n",
    "    embeddings,\n",
    "    redis_url=redis_url,\n",
    "    index_name=index_name,\n",
    "    schema=schema_name\n",
    ")"
   ]
  },
  {
   "cell_type": "code",
   "execution_count": 4,
   "id": "0c89b155-7424-48ab-a29e-da7aa9aeedc7",
   "metadata": {},
   "outputs": [],
   "source": [
    "def combine_metadata(doc) -> str:\n",
    "    metadata = doc.metadata\n",
    "    return (\n",
    "        \"Project Number: \" + metadata[\"number\"] + \". \" +\n",
    "        \"Project Name: \" + metadata[\"name\"] + \". \" +\n",
    "        \"Project Detail: \" + metadata[\"detail\"] + \".\" +\n",
    "        \"Project Author: \" + metadata[\"author\"] + \".\" +\n",
    "        \"Project Technology: \" + metadata[\"technology\"] + \".\"\n",
    "    )\n"
   ]
  },
  {
   "cell_type": "code",
   "execution_count": 9,
   "id": "f740cfda-342e-42f2-a98d-73d671b184f5",
   "metadata": {},
   "outputs": [],
   "source": [
    "def get_relevant_documents(query):\n",
    "    docs = []\n",
    "    for doc in vectorstore.similarity_search(query):\n",
    "        content = combine_metadata(doc)\n",
    "        docs.append(Document(\n",
    "            page_content=content,\n",
    "            metadata=doc.metadata\n",
    "        ))\n",
    "        return docs"
   ]
  },
  {
   "cell_type": "code",
   "execution_count": 10,
   "id": "a4892d6a-f58d-4815-b128-826f0469688e",
   "metadata": {},
   "outputs": [],
   "source": [
    "adocs = get_relevant_documents(\"Andromeda\")"
   ]
  },
  {
   "cell_type": "code",
   "execution_count": 11,
   "id": "4a9232bc-552b-46c5-82f4-03b9440bb050",
   "metadata": {},
   "outputs": [
    {
     "data": {
      "text/plain": [
       "'Project Number: 1. Project Name: Andromeda   . Project Detail:   The Andromeda galaxy, also known as M31, is a spiral galaxy located approximately 2.5 million light-years away from Earth in the constellation Andromeda. It is the closest major galaxy to our own Milky Way galaxy and is a member of the Local Group of galaxies, which also includes the Milky Way, the Triangulum galaxy (M33), and several smaller galaxies and dwarf galaxies.  The Andromeda galaxy has a diameter of about 100,000 light-years and is estimated to contain about 2 trillion stars, making it one of the largest galaxies in the observable universe. It is also home to a variety of other celestial objects, including black holes, supernovae, and planetary nebulae.  The Andromeda galaxy is classified as a barred spiral galaxy, meaning it has a central bar-shaped structure composed of stars and gas. It also has several spiral arms that wind outward from the center, containing many stars, gas, and dust. The galaxy is believed to be rotating rapidly, with stars and gas moving at speeds of up to 300 kilometers per second.  The Andromeda galaxy is also home to a variety of star clusters, which are groups of stars that formed together over time. Some of these clusters are very young, with ages of only a few million years, while others are much older, with ages of billions of years.  In addition to its scientific importance, the Andromeda galaxy is also a popular target for astronomers and Astro photographers due to its brightness and distinctive appearance. It is often visible to the naked eye on clear nights and can be easily observed with a telescope.   .Project Author:   Ivan Yefremov   .Project Technology:    Java  .'"
      ]
     },
     "execution_count": 11,
     "metadata": {},
     "output_type": "execute_result"
    }
   ],
   "source": [
    "adocs[0].page_content"
   ]
  },
  {
   "cell_type": "markdown",
   "id": "caf25b32-fe00-4d94-9864-d9cef498511d",
   "metadata": {},
   "source": [
    "## Extract the page content"
   ]
  },
  {
   "cell_type": "code",
   "execution_count": 12,
   "id": "d88db944-5229-4c15-a2f0-1c4e63430c06",
   "metadata": {},
   "outputs": [],
   "source": [
    "def getNameDetailAndAuthor(text, start, end):\n",
    "    detailAndAuthor = text[text.find(start)+len(start):text.rfind(end)]\n",
    "    return detailAndAuthor"
   ]
  },
  {
   "cell_type": "code",
   "execution_count": 13,
   "id": "b52ea1dc-f1ba-427c-abd2-0605cbb834da",
   "metadata": {},
   "outputs": [],
   "source": [
    "def getTechnology(text, start):\n",
    "    technology = text[text.find(start)+len(start):]\n",
    "    return technology"
   ]
  },
  {
   "cell_type": "code",
   "execution_count": 14,
   "id": "e2bef758-1d34-43bf-82b0-f91f88e21231",
   "metadata": {},
   "outputs": [
    {
     "data": {
      "text/plain": [
       "' Andromeda   . '"
      ]
     },
     "execution_count": 14,
     "metadata": {},
     "output_type": "execute_result"
    }
   ],
   "source": [
    "aname = getNameDetailAndAuthor(adocs[0].page_content, 'Project Name:','Project Detail:')\n",
    "aname"
   ]
  },
  {
   "cell_type": "code",
   "execution_count": 15,
   "id": "2971e2c4-e271-4f36-b349-937398e97de1",
   "metadata": {},
   "outputs": [
    {
     "data": {
      "text/plain": [
       "'   The Andromeda galaxy, also known as M31, is a spiral galaxy located approximately 2.5 million light-years away from Earth in the constellation Andromeda. It is the closest major galaxy to our own Milky Way galaxy and is a member of the Local Group of galaxies, which also includes the Milky Way, the Triangulum galaxy (M33), and several smaller galaxies and dwarf galaxies.  The Andromeda galaxy has a diameter of about 100,000 light-years and is estimated to contain about 2 trillion stars, making it one of the largest galaxies in the observable universe. It is also home to a variety of other celestial objects, including black holes, supernovae, and planetary nebulae.  The Andromeda galaxy is classified as a barred spiral galaxy, meaning it has a central bar-shaped structure composed of stars and gas. It also has several spiral arms that wind outward from the center, containing many stars, gas, and dust. The galaxy is believed to be rotating rapidly, with stars and gas moving at speeds of up to 300 kilometers per second.  The Andromeda galaxy is also home to a variety of star clusters, which are groups of stars that formed together over time. Some of these clusters are very young, with ages of only a few million years, while others are much older, with ages of billions of years.  In addition to its scientific importance, the Andromeda galaxy is also a popular target for astronomers and Astro photographers due to its brightness and distinctive appearance. It is often visible to the naked eye on clear nights and can be easily observed with a telescope.   .'"
      ]
     },
     "execution_count": 15,
     "metadata": {},
     "output_type": "execute_result"
    }
   ],
   "source": [
    "adetail = getNameDetailAndAuthor(adocs[0].page_content,'Project Detail:', 'Project Author:')\n",
    "adetail"
   ]
  },
  {
   "cell_type": "code",
   "execution_count": 16,
   "id": "291bde9e-20bd-4daf-910c-981ad7a24a00",
   "metadata": {},
   "outputs": [
    {
     "data": {
      "text/plain": [
       "'   Ivan Yefremov   .'"
      ]
     },
     "execution_count": 16,
     "metadata": {},
     "output_type": "execute_result"
    }
   ],
   "source": [
    "aauthor = getNameDetailAndAuthor(adocs[0].page_content,'Project Author:','Project Technology:')\n",
    "aauthor"
   ]
  },
  {
   "cell_type": "code",
   "execution_count": 17,
   "id": "8d69c294-02a2-49ca-bc9f-5e2b18ad18ac",
   "metadata": {},
   "outputs": [
    {
     "data": {
      "text/plain": [
       "'    Java  .'"
      ]
     },
     "execution_count": 17,
     "metadata": {},
     "output_type": "execute_result"
    }
   ],
   "source": [
    "atechnology = getTechnology(adocs[0].page_content,'Project Technology:')\n",
    "atechnology"
   ]
  },
  {
   "cell_type": "markdown",
   "id": "6d54ae62-311b-4751-a3d7-571b2e3231bd",
   "metadata": {},
   "source": [
    "## Setup llm"
   ]
  },
  {
   "cell_type": "code",
   "execution_count": 19,
   "id": "df0c5560-9fac-4321-9115-11314c2ff1cc",
   "metadata": {},
   "outputs": [
    {
     "name": "stderr",
     "output_type": "stream",
     "text": [
      "/opt/app-root/lib64/python3.9/site-packages/pydantic/_internal/_fields.py:128: UserWarning: Field \"model_id\" has conflict with protected namespace \"model_\".\n",
      "\n",
      "You may be able to resolve this warning by setting `model_config['protected_namespaces'] = ()`.\n",
      "  warnings.warn(\n"
     ]
    }
   ],
   "source": [
    "llm = HuggingFaceTextGenInference(\n",
    "    inference_server_url=inference_server_url,\n",
    "    max_new_tokens=512,\n",
    "    top_k=10,\n",
    "    top_p=0.95,\n",
    "    typical_p=0.95,\n",
    "    temperature=0.1,\n",
    "    repetition_penalty=1.175\n",
    ")"
   ]
  },
  {
   "cell_type": "code",
   "execution_count": 20,
   "id": "e84377c6-dd84-45ad-afb3-cbdb0b42d775",
   "metadata": {},
   "outputs": [],
   "source": [
    "def summarize(topic):\n",
    "    prompt_template = \"\"\"Write a concise summary of the following:\n",
    "\n",
    "\n",
    "    {text}\n",
    "\n",
    "\n",
    "    CONCISE SUMMARY IN GERMAN:\"\"\"\n",
    "    PROMPT = PromptTemplate(template=prompt_template, input_variables=[\"text\"])\n",
    "    summary_chain = load_summarize_chain(llm, chain_type=\"map_reduce\", map_prompt=PROMPT, combine_prompt=PROMPT)\n",
    "    summarize_document_chain = AnalyzeDocumentChain(combine_docs_chain=summary_chain)\n",
    "    db_retriever = vectorstore.as_retriever()\n",
    "    langchain_qa = RetrievalQA.from_chain_type(llm=llm, \n",
    "                                 chain_type=\"stuff\", \n",
    "                                 retriever=db_retriever)\n",
    "    relevant_data = langchain_qa(topic)\n",
    "    summary = summarize_document_chain.run(relevant_data['result'])\n",
    "    return summary"
   ]
  },
  {
   "cell_type": "markdown",
   "id": "084f026d-efa9-4a19-b905-73414c057545",
   "metadata": {},
   "source": [
    "## Summarize the project detail"
   ]
  },
  {
   "cell_type": "code",
   "execution_count": 21,
   "id": "cc10bc10-43d8-47aa-8e68-dff2a68e74e7",
   "metadata": {},
   "outputs": [
    {
     "name": "stderr",
     "output_type": "stream",
     "text": [
      "score_threshold is deprecated. Use distance_threshold instead.score_threshold should only be used in similarity_search_with_relevance_scores.score_threshold will be removed in a future release.\n"
     ]
    },
    {
     "data": {
      "text/plain": [
       "'\\n\\n    Die folgende Passage beschreibt die Entwicklung von einer neuen Technologie, welche eine neue Form der Energieverwendung ermöglicht. Diese Technologie wird als \"Ja\" bezeichnet und ist in der Lage, aus dem Wasserstoff im Luft zu gewinnen. Der Autor stellt fest, dass diese Technologie sehr viel Potenzial hat, da sie nicht nur die Möglichkeit bietet, die Energieversorgung zu verbessern, sondern auch die Umwelt zu schützen. Er erklärt jedoch, dass dieses Potenzial bisher noch nicht vollständig genutzt werden kann, weil es fehlender Forschungsbedarf gibt.'"
      ]
     },
     "execution_count": 21,
     "metadata": {},
     "output_type": "execute_result"
    }
   ],
   "source": [
    "summary = summarize(adetail)\n",
    "summary"
   ]
  },
  {
   "cell_type": "code",
   "execution_count": 22,
   "id": "8813faa1-77b3-4b1d-9f5f-2ccbd7149051",
   "metadata": {},
   "outputs": [],
   "source": [
    "def generate(topic):\n",
    "    prompt_template = \"\"\"Use the context below to write a 400 word blog post about the topic below:\n",
    "    Context: {context}\n",
    "    Topic: {topic}\n",
    "    Blog post:\"\"\"\n",
    "\n",
    "    PROMPT = PromptTemplate(\n",
    "        template=prompt_template, input_variables=[\"context\", \n",
    "                                                   \"topic\"]\n",
    "    )\n",
    "\n",
    "    chain = LLMChain(llm=llm, prompt=PROMPT)\n",
    "    docs = vectorstore.similarity_search(topic, k=1)\n",
    "    inputs = [{\"context\": doc.page_content, \n",
    "               \"topic\": topic} for doc in docs]\n",
    "    gen = chain.apply(inputs)\n",
    "    return gen"
   ]
  },
  {
   "cell_type": "markdown",
   "id": "c8aa7bc3-5e30-4795-a392-d9dba1036f16",
   "metadata": {},
   "source": [
    "## Generate the content for author"
   ]
  },
  {
   "cell_type": "code",
   "execution_count": 23,
   "id": "5fb55803-871e-4e77-81da-5f5837172008",
   "metadata": {},
   "outputs": [
    {
     "data": {
      "text/plain": [
       "' The Cosmic Vision of Ivan Yefremov\\n\\nIvan Yefremov was a Russian scientist and writer, who is best known for his work in astrophysics. He was born on July 16, 1905, in St. Petersburg, Russia, and died on April 27, 1983, in Moscow. Yefremov\\'s most famous book, \"Hail Mary,\" was published in 1961 and quickly became one of the most popular science fiction novels in the Soviet Union.\\n\\nYefremov\\'s vision of space was heavily influenced by his scientific background. As an astrophysicist, he had a deep understanding of the universe and its workings. This knowledge allowed him to create vivid and believable descriptions of alien worlds and civilizations. In \"Hail Mary,\" for example, Yefremov describes a planet that is covered in ice and snow, with towering mountains that reach up into the sky. He also depicts a society that has evolved to live underground, where they use advanced technology to survive in the harsh environment above ground.\\n\\nIn addition to his scientific expertise, Yefremov was also a skilled writer. His prose was elegant and poetic, and he had a knack for creating memorable characters. One of the most iconic figures from \"Hail Mary\" is the protagonist, Captain Tarkhanov, who is both brave and resourceful. Tarkhanov is a man of action, who is willing to do whatever it takes to save humanity from destruction.\\n\\nAnother important aspect of Yefremov\\'s cosmic vision was his belief in the importance of exploration. He believed that humans should strive to explore the universe and discover new worlds and civilizations. This theme is explored in depth in \"Hail Mary,\" where Tarkhanov embarks on a journey through space in search of a lost colony of humans. Along the way, he encounters strange and wondrous sights, including a planet that is home to intelligent machines.\\n\\nOverall, Ivan Yefremov\\'s cosmic vision was shaped by his scientific background and his love of exploration. Through his writing, he created a world that was both beautiful and terrifying, filled with wonder and danger. His books continue to inspire readers today, and his legacy as a pioneer of science fiction will be remembered for generations to come.'"
      ]
     },
     "execution_count": 23,
     "metadata": {},
     "output_type": "execute_result"
    }
   ],
   "source": [
    "output = generate(aauthor)\n",
    "output[0]['text']"
   ]
  },
  {
   "cell_type": "markdown",
   "id": "49ad2b0f-e24f-421f-852d-d7cf607383e8",
   "metadata": {},
   "source": [
    "## Generate the content for technology"
   ]
  },
  {
   "cell_type": "code",
   "execution_count": 24,
   "id": "59d05e49-9ba3-49d4-bfae-708900842dc7",
   "metadata": {},
   "outputs": [
    {
     "data": {
      "text/plain": [
       "' Exploring the relationship between Java and the Milky Way.\\n\\nExploring the Relationship Between Java and the Milky Way\\n\\nJava is one of the most popular programming languages in use today, with millions of developers worldwide using it to create everything from simple desktop applications to complex enterprise systems. But what many people may not realize is that there is actually a deep connection between Java and something much larger than our planet - the Milky Way galaxy.\\n\\nAt its core, Java is an object-oriented language that allows developers to create reusable code by defining classes and objects that can be manipulated and combined in various ways. This makes it a powerful tool for building large, complex systems that are capable of handling vast amounts of data and processing power. And this is exactly what makes Java so well-suited for exploring the mysteries of the universe, including the Milky Way.\\n\\nOne of the key areas where Java has been used to study the Milky Way is in the field of astronomy. Many astronomers use Java to analyze and process the vast amount of data collected by telescopes and other scientific instruments, allowing them to better understand the structure and behavior of galaxies like ours. For example, the Sloan Digital Sky Survey (SDSS), which is one of the largest and most ambitious astronomical surveys ever undertaken, relies heavily on Java to process and analyze the billions of images and spectra it collects each night.\\n\\nIn addition to its use in astronomy, Java has also been used to simulate the behavior of galaxies like the Milky Way. By creating detailed models of the gravitational forces and interactions that govern the motion of stars and planets within a galaxy, researchers have been able to gain new insights into how these celestial bodies behave over time. These simulations have proven to be incredibly useful for understanding the complex dynamics of galaxies like the Milky Way, and have helped to answer some of the biggest questions in modern astrophysics.\\n\\nBut perhaps the most exciting application of Java in relation to the Milky Way is its role in space exploration. In recent years, NASA has begun using Java to develop software for its upcoming missions to explore the outer reaches of our solar system, including Mars and beyond. This includes everything from navigation and communication systems to rovers and other scientific instruments that will be used to gather valuable data about these distant worlds.\\n\\nOf course, the connection between Java and the Milky Way is not just limited to science and exploration'"
      ]
     },
     "execution_count": 24,
     "metadata": {},
     "output_type": "execute_result"
    }
   ],
   "source": [
    "outputTech = generate(atechnology)\n",
    "outputTech[0]['text']"
   ]
  },
  {
   "cell_type": "markdown",
   "id": "a1f83cc9-137c-4702-bbf7-fb58f656ad1c",
   "metadata": {},
   "source": [
    "## Doc generation"
   ]
  },
  {
   "cell_type": "code",
   "execution_count": 25,
   "id": "498a7c54-d687-43a1-aaf0-cf446df4aed9",
   "metadata": {},
   "outputs": [
    {
     "name": "stdout",
     "output_type": "stream",
     "text": [
      "\n",
      "\n",
      "\n",
      "    Die folgende Passage beschreibt die Entwicklung von einer neuen Technologie, welche eine neue Form der Energieverwendung ermöglicht. Diese Technologie wird als \"Ja\" bezeichnet und ist in der Lage, aus dem Wasserstoff im Luft zu gewinnen. Der Autor stellt fest, dass diese Technologie sehr viel Potenzial hat, da sie nicht nur die Möglichkeit bietet, die Energieversorgung zu verbessern, sondern auch die Umwelt zu schützen. Er erklärt jedoch, dass dieses Potenzial bisher noch nicht vollständig genutzt werden kann, weil es fehlender Forschungsbedarf gibt.\n",
      "\n",
      "\n",
      " The Cosmic Vision of Ivan Yefremov\n",
      "\n",
      "Ivan Yefremov was a Russian scientist and writer, who is best known for his work in astrophysics. He was born on July 16, 1905, in St. Petersburg, Russia, and died on April 27, 1983, in Moscow. Yefremov's most famous book, \"Hail Mary,\" was published in 1961 and quickly became one of the most popular science fiction novels in the Soviet Union.\n",
      "\n",
      "Yefremov's vision of space was heavily influenced by his scientific background. As an astrophysicist, he had a deep understanding of the universe and its workings. This knowledge allowed him to create vivid and believable descriptions of alien worlds and civilizations. In \"Hail Mary,\" for example, Yefremov describes a planet that is covered in ice and snow, with towering mountains that reach up into the sky. He also depicts a society that has evolved to live underground, where they use advanced technology to survive in the harsh environment above ground.\n",
      "\n",
      "In addition to his scientific expertise, Yefremov was also a skilled writer. His prose was elegant and poetic, and he had a knack for creating memorable characters. One of the most iconic figures from \"Hail Mary\" is the protagonist, Captain Tarkhanov, who is both brave and resourceful. Tarkhanov is a man of action, who is willing to do whatever it takes to save humanity from destruction.\n",
      "\n",
      "Another important aspect of Yefremov's cosmic vision was his belief in the importance of exploration. He believed that humans should strive to explore the universe and discover new worlds and civilizations. This theme is explored in depth in \"Hail Mary,\" where Tarkhanov embarks on a journey through space in search of a lost colony of humans. Along the way, he encounters strange and wondrous sights, including a planet that is home to intelligent machines.\n",
      "\n",
      "Overall, Ivan Yefremov's cosmic vision was shaped by his scientific background and his love of exploration. Through his writing, he created a world that was both beautiful and terrifying, filled with wonder and danger. His books continue to inspire readers today, and his legacy as a pioneer of science fiction will be remembered for generations to come.\n",
      "\n",
      "\n",
      " Exploring the relationship between Java and the Milky Way.\n",
      "\n",
      "Exploring the Relationship Between Java and the Milky Way\n",
      "\n",
      "Java is one of the most popular programming languages in use today, with millions of developers worldwide using it to create everything from simple desktop applications to complex enterprise systems. But what many people may not realize is that there is actually a deep connection between Java and something much larger than our planet - the Milky Way galaxy.\n",
      "\n",
      "At its core, Java is an object-oriented language that allows developers to create reusable code by defining classes and objects that can be manipulated and combined in various ways. This makes it a powerful tool for building large, complex systems that are capable of handling vast amounts of data and processing power. And this is exactly what makes Java so well-suited for exploring the mysteries of the universe, including the Milky Way.\n",
      "\n",
      "One of the key areas where Java has been used to study the Milky Way is in the field of astronomy. Many astronomers use Java to analyze and process the vast amount of data collected by telescopes and other scientific instruments, allowing them to better understand the structure and behavior of galaxies like ours. For example, the Sloan Digital Sky Survey (SDSS), which is one of the largest and most ambitious astronomical surveys ever undertaken, relies heavily on Java to process and analyze the billions of images and spectra it collects each night.\n",
      "\n",
      "In addition to its use in astronomy, Java has also been used to simulate the behavior of galaxies like the Milky Way. By creating detailed models of the gravitational forces and interactions that govern the motion of stars and planets within a galaxy, researchers have been able to gain new insights into how these celestial bodies behave over time. These simulations have proven to be incredibly useful for understanding the complex dynamics of galaxies like the Milky Way, and have helped to answer some of the biggest questions in modern astrophysics.\n",
      "\n",
      "But perhaps the most exciting application of Java in relation to the Milky Way is its role in space exploration. In recent years, NASA has begun using Java to develop software for its upcoming missions to explore the outer reaches of our solar system, including Mars and beyond. This includes everything from navigation and communication systems to rovers and other scientific instruments that will be used to gather valuable data about these distant worlds.\n",
      "\n",
      "Of course, the connection between Java and the Milky Way is not just limited to science and exploration\n",
      "\n",
      "\n",
      "\n"
     ]
    }
   ],
   "source": [
    "print(f'''\n",
    "{summary}\n",
    "\n",
    "\n",
    "{output[0]['text']}\n",
    "\n",
    "\n",
    "{outputTech[0]['text']}\n",
    "\n",
    "\n",
    "''')"
   ]
  },
  {
   "cell_type": "code",
   "execution_count": null,
   "id": "5ef7366e-ce4d-4982-82b8-8b6c24807e2b",
   "metadata": {},
   "outputs": [],
   "source": []
  }
 ],
 "metadata": {
  "kernelspec": {
   "display_name": "Python 3.9",
   "language": "python",
   "name": "python3"
  },
  "language_info": {
   "codemirror_mode": {
    "name": "ipython",
    "version": 3
   },
   "file_extension": ".py",
   "mimetype": "text/x-python",
   "name": "python",
   "nbconvert_exporter": "python",
   "pygments_lexer": "ipython3",
   "version": "3.9.16"
  }
 },
 "nbformat": 4,
 "nbformat_minor": 5
}
