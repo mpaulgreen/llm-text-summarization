{
 "cells": [
  {
   "cell_type": "markdown",
   "id": "c85a875b-c788-4862-b3a1-5924c6c6416b",
   "metadata": {},
   "source": [
    "# Performant with mistrial model"
   ]
  },
  {
   "cell_type": "code",
   "execution_count": 1,
   "id": "323610c1-5822-4036-b0f3-6492c9d5e8d6",
   "metadata": {},
   "outputs": [],
   "source": [
    "redis_url = \"\"\n",
    "inference_server_url=\"\""
   ]
  },
  {
   "cell_type": "markdown",
   "id": "18e3e94d-bb2a-4ec2-9b51-96a8269795be",
   "metadata": {},
   "source": [
    "## Preprocess the data"
   ]
  },
  {
   "cell_type": "code",
   "execution_count": 2,
   "id": "94daf711-49bd-4fe1-8acb-809d7326eb2d",
   "metadata": {},
   "outputs": [],
   "source": [
    "from langchain.document_loaders import PyPDFDirectoryLoader\n",
    "\n",
    "pdf_folder_path = 'sample'\n",
    "\n",
    "loader = PyPDFDirectoryLoader(pdf_folder_path)\n",
    "docs = loader.load()"
   ]
  },
  {
   "cell_type": "code",
   "execution_count": 3,
   "id": "a7b69930-5d8a-4635-8f41-402e8e47b5d7",
   "metadata": {},
   "outputs": [],
   "source": [
    "from PyPDF2 import PdfReader"
   ]
  },
  {
   "cell_type": "code",
   "execution_count": 4,
   "id": "85315ef5-5090-4856-bd37-1e3a405852c1",
   "metadata": {},
   "outputs": [],
   "source": [
    "def getProjectName(doc,end):\n",
    "    reader = PdfReader(doc)\n",
    "    page = reader.pages[0]\n",
    "    text = page.extract_text()\n",
    "    name = text[:text.rfind(end)]\n",
    "    return name    "
   ]
  },
  {
   "cell_type": "code",
   "execution_count": 5,
   "id": "186e74ac-6852-4d29-afee-28a964e8370c",
   "metadata": {},
   "outputs": [],
   "source": [
    "def getDetailAndAuthor(doc, start, end):\n",
    "    reader = PdfReader(doc)\n",
    "    page = reader.pages[0]\n",
    "    text = page.extract_text()\n",
    "    detailAndAuthor = text[text.find(start)+len(start):text.rfind(end)]\n",
    "    return detailAndAuthor"
   ]
  },
  {
   "cell_type": "code",
   "execution_count": 6,
   "id": "31f7d500-1895-4a9a-9c1f-d63dbb048d29",
   "metadata": {},
   "outputs": [],
   "source": [
    "def getTechnology(doc, start):\n",
    "    reader = PdfReader(doc)\n",
    "    page = reader.pages[0]\n",
    "    text = page.extract_text()\n",
    "    technology = text[text.find(start)+len(start):]\n",
    "    return technology"
   ]
  },
  {
   "cell_type": "code",
   "execution_count": 7,
   "id": "4d892f73-33d4-4a81-ab13-214a2bb7aa40",
   "metadata": {},
   "outputs": [],
   "source": [
    "andromedaDetail = getDetailAndAuthor('./sample/Andromeda.pdf', 'Details', 'Author')"
   ]
  },
  {
   "cell_type": "code",
   "execution_count": 8,
   "id": "52078d52-6d17-4c3e-8253-fa26ecbb4a6b",
   "metadata": {},
   "outputs": [],
   "source": [
    "andromedaAuthor = getDetailAndAuthor('./sample/Andromeda.pdf', 'Author', 'Technology')"
   ]
  },
  {
   "cell_type": "code",
   "execution_count": 9,
   "id": "b9e27a4a-45cb-4e49-9c99-d57c816918b2",
   "metadata": {},
   "outputs": [],
   "source": [
    "andromedaTechnology = getTechnology('./sample/Andromeda.pdf', 'Technology')"
   ]
  },
  {
   "cell_type": "code",
   "execution_count": 10,
   "id": "45bf5295-107a-4744-b767-07c81111acec",
   "metadata": {},
   "outputs": [],
   "source": [
    "andromedaName = getProjectName('./sample/Andromeda.pdf', 'Details')"
   ]
  },
  {
   "cell_type": "code",
   "execution_count": 11,
   "id": "6ded6771-ab16-4457-a54c-43fb042c3ab7",
   "metadata": {},
   "outputs": [
    {
     "name": "stdout",
     "output_type": "stream",
     "text": [
      "\n",
      "Name: Andromeda   \n",
      "\n",
      "Detail:   The Andromeda galaxy, also known as M31, is a spiral galaxy located approximately 2.5 million light-years away from Earth in the constellation Andromeda. It is the closest major galaxy to our own Milky Way galaxy and is a member of the Local Group of galaxies, which also includes the Milky Way, the Triangulum galaxy (M33), and several smaller galaxies and dwarf galaxies.  The Andromeda galaxy has a diameter of about 100,000 light-years and is estimated to contain about 2 trillion stars, making it one of the largest galaxies in the observable universe. It is also home to a variety of other celestial objects, including black holes, supernovae, and planetary nebulae.  The Andromeda galaxy is classified as a barred spiral galaxy, meaning it has a central bar-shaped structure composed of stars and gas. It also has several spiral arms that wind outward from the center, containing many stars, gas, and dust. The galaxy is believed to be rotating rapidly, with stars and gas moving at speeds of up to 300 kilometers per second.  The Andromeda galaxy is also home to a variety of star clusters, which are groups of stars that formed together over time. Some of these clusters are very young, with ages of only a few million years, while others are much older, with ages of billions of years.  In addition to its scientific importance, the Andromeda galaxy is also a popular target for astronomers and Astro photographers due to its brightness and distinctive appearance. It is often visible to the naked eye on clear nights and can be easily observed with a telescope.   \n",
      "\n",
      "\n",
      "Author:   Ivan Yefremov   \n",
      "\n",
      "Technology:    Java  \n",
      "\n"
     ]
    }
   ],
   "source": [
    "print(f'''\n",
    "Name: {andromedaName}\n",
    "\n",
    "Detail: {andromedaDetail}\n",
    "\n",
    "\n",
    "Author: {andromedaAuthor}\n",
    "\n",
    "Technology: {andromedaTechnology}\n",
    "''')"
   ]
  },
  {
   "cell_type": "code",
   "execution_count": 12,
   "id": "ee3a277e-1876-47d9-9804-c22f88f6349c",
   "metadata": {},
   "outputs": [],
   "source": [
    "milkywayDetail = getDetailAndAuthor('./sample/Milkyway.pdf', 'Details', 'Author')"
   ]
  },
  {
   "cell_type": "code",
   "execution_count": 13,
   "id": "25a2bd6c-5472-4f46-abac-11a0d62baf54",
   "metadata": {},
   "outputs": [],
   "source": [
    "milkywayAuthor = getDetailAndAuthor('./sample/Milkyway.pdf', 'Author', 'Technology')"
   ]
  },
  {
   "cell_type": "code",
   "execution_count": 14,
   "id": "05e959cc-8441-4c8e-aa8e-7300df0cf294",
   "metadata": {},
   "outputs": [],
   "source": [
    "milkywayTechnology = getTechnology('./sample/Milkyway.pdf', 'Technology')"
   ]
  },
  {
   "cell_type": "code",
   "execution_count": 15,
   "id": "d18762d0-d44c-4cf6-8852-c05078cdfe67",
   "metadata": {},
   "outputs": [],
   "source": [
    "milkywayName = getProjectName('./sample/Milkyway.pdf', 'Details')"
   ]
  },
  {
   "cell_type": "code",
   "execution_count": 16,
   "id": "b903288f-7d00-4e0f-bf5a-6b1c548dd411",
   "metadata": {},
   "outputs": [
    {
     "name": "stdout",
     "output_type": "stream",
     "text": [
      "\n",
      "Name: Milkyway   \n",
      "\n",
      "\n",
      "Detail:   The Milky Way[c] is the galaxy that includes the Solar System, with the name describing the galaxy's appearance from Earth: a hazy band of light seen in the night sky formed from stars that cannot be individually distinguished by the naked eye. The term Milky Way is a translation of the Latin via lactea, from the Greek γαλαξίας κύκλος (galaxías kýklos), meaning \"milky circle\".[26][27] From Earth, the Milky Way appears as a band because its disk-shaped structure is viewed from within. Galileo Galilei first resolved the band of light into individual stars with his telescope in 1610. Until the early 1920s, most astronomers thought that the Milky Way contained all the stars in the Universe.[28] Following the 1920 Great Debate between the astronomers Harlow Shapley and Heber Doust Curtis,[29] observations by Edwin Hubble showed that the Milky Way is just one of many galaxies.   \n",
      "\n",
      "\n",
      "Author:   Dr. Moiya McTier  \n",
      "\n",
      "Technology:    .NET \n",
      "\n"
     ]
    }
   ],
   "source": [
    "print(f'''\n",
    "Name: {milkywayName}\n",
    "\n",
    "\n",
    "Detail: {milkywayDetail}\n",
    "\n",
    "\n",
    "Author: {milkywayAuthor}\n",
    "\n",
    "Technology: {milkywayTechnology}\n",
    "''')"
   ]
  },
  {
   "cell_type": "markdown",
   "id": "9a32a9d9-1c05-4690-a7ad-8064c7ecdf08",
   "metadata": {},
   "source": [
    "## Storing the project details in CSV file"
   ]
  },
  {
   "cell_type": "code",
   "execution_count": 17,
   "id": "579e3cb6-1b10-40f6-ab2a-a7c279de2943",
   "metadata": {},
   "outputs": [],
   "source": [
    "import csv\n",
    "import pandas as pd"
   ]
  },
  {
   "cell_type": "code",
   "execution_count": 18,
   "id": "78a8d77a-2edd-433f-a1ca-3aaf8191174f",
   "metadata": {},
   "outputs": [],
   "source": [
    "rows = [\n",
    "    ['1',andromedaName, andromedaDetail, andromedaAuthor, andromedaTechnology],\n",
    "    ['2',milkywayName, milkywayDetail, milkywayAuthor, milkywayTechnology]\n",
    "]\n",
    "\n",
    "filename = \"projects.csv\"\n",
    "fields = ['number', 'name', 'detail', 'author', 'technology']"
   ]
  },
  {
   "cell_type": "code",
   "execution_count": 19,
   "id": "a781e065-11ef-4436-a228-fc25ee77dd24",
   "metadata": {},
   "outputs": [],
   "source": [
    "with open(filename, 'w') as csvfile:   \n",
    "    # creating a csv writer object   \n",
    "    csvwriter = csv.writer(csvfile)   \n",
    "          \n",
    "    # writing the fields   \n",
    "    csvwriter.writerow(fields)   \n",
    "          \n",
    "    # writing the data rows   \n",
    "    csvwriter.writerows(rows) "
   ]
  },
  {
   "cell_type": "code",
   "execution_count": 20,
   "id": "45ac2e1d-02c0-4640-b267-624c7fface7f",
   "metadata": {},
   "outputs": [],
   "source": [
    "all_prods_df = pd.read_csv(\"projects.csv\")"
   ]
  },
  {
   "cell_type": "code",
   "execution_count": 21,
   "id": "6a53532a-4e9a-494b-89e6-97151dc7c7e7",
   "metadata": {},
   "outputs": [
    {
     "data": {
      "text/html": [
       "<div>\n",
       "<style scoped>\n",
       "    .dataframe tbody tr th:only-of-type {\n",
       "        vertical-align: middle;\n",
       "    }\n",
       "\n",
       "    .dataframe tbody tr th {\n",
       "        vertical-align: top;\n",
       "    }\n",
       "\n",
       "    .dataframe thead th {\n",
       "        text-align: right;\n",
       "    }\n",
       "</style>\n",
       "<table border=\"1\" class=\"dataframe\">\n",
       "  <thead>\n",
       "    <tr style=\"text-align: right;\">\n",
       "      <th></th>\n",
       "      <th>number</th>\n",
       "      <th>name</th>\n",
       "      <th>detail</th>\n",
       "      <th>author</th>\n",
       "      <th>technology</th>\n",
       "    </tr>\n",
       "  </thead>\n",
       "  <tbody>\n",
       "    <tr>\n",
       "      <th>0</th>\n",
       "      <td>1</td>\n",
       "      <td>Andromeda</td>\n",
       "      <td>The Andromeda galaxy, also known as M31, is ...</td>\n",
       "      <td>Ivan Yefremov</td>\n",
       "      <td>Java</td>\n",
       "    </tr>\n",
       "    <tr>\n",
       "      <th>1</th>\n",
       "      <td>2</td>\n",
       "      <td>Milkyway</td>\n",
       "      <td>The Milky Way[c] is the galaxy that includes...</td>\n",
       "      <td>Dr. Moiya McTier</td>\n",
       "      <td>.NET</td>\n",
       "    </tr>\n",
       "  </tbody>\n",
       "</table>\n",
       "</div>"
      ],
      "text/plain": [
       "   number          name                                             detail  \\\n",
       "0       1  Andromeda       The Andromeda galaxy, also known as M31, is ...   \n",
       "1       2   Milkyway       The Milky Way[c] is the galaxy that includes...   \n",
       "\n",
       "                 author technology  \n",
       "0      Ivan Yefremov        Java    \n",
       "1    Dr. Moiya McTier        .NET   "
      ]
     },
     "execution_count": 21,
     "metadata": {},
     "output_type": "execute_result"
    }
   ],
   "source": [
    "all_prods_df.reset_index(drop=True, inplace=True)\n",
    "all_prods_df.head()"
   ]
  },
  {
   "cell_type": "code",
   "execution_count": 22,
   "id": "037df2cd-985d-4aff-8ad3-27f550885d6f",
   "metadata": {},
   "outputs": [],
   "source": [
    "# Contruct a primary key\n",
    "all_prods_df['primary_key'] = (\n",
    "    all_prods_df['number']\n",
    ")"
   ]
  },
  {
   "cell_type": "code",
   "execution_count": 23,
   "id": "cc186551-8196-49f7-9666-f7a9ec14729f",
   "metadata": {},
   "outputs": [
    {
     "data": {
      "text/html": [
       "<div>\n",
       "<style scoped>\n",
       "    .dataframe tbody tr th:only-of-type {\n",
       "        vertical-align: middle;\n",
       "    }\n",
       "\n",
       "    .dataframe tbody tr th {\n",
       "        vertical-align: top;\n",
       "    }\n",
       "\n",
       "    .dataframe thead th {\n",
       "        text-align: right;\n",
       "    }\n",
       "</style>\n",
       "<table border=\"1\" class=\"dataframe\">\n",
       "  <thead>\n",
       "    <tr style=\"text-align: right;\">\n",
       "      <th></th>\n",
       "      <th>number</th>\n",
       "      <th>name</th>\n",
       "      <th>detail</th>\n",
       "      <th>author</th>\n",
       "      <th>technology</th>\n",
       "      <th>primary_key</th>\n",
       "    </tr>\n",
       "  </thead>\n",
       "  <tbody>\n",
       "    <tr>\n",
       "      <th>0</th>\n",
       "      <td>1</td>\n",
       "      <td>Andromeda</td>\n",
       "      <td>The Andromeda galaxy, also known as M31, is ...</td>\n",
       "      <td>Ivan Yefremov</td>\n",
       "      <td>Java</td>\n",
       "      <td>1</td>\n",
       "    </tr>\n",
       "    <tr>\n",
       "      <th>1</th>\n",
       "      <td>2</td>\n",
       "      <td>Milkyway</td>\n",
       "      <td>The Milky Way[c] is the galaxy that includes...</td>\n",
       "      <td>Dr. Moiya McTier</td>\n",
       "      <td>.NET</td>\n",
       "      <td>2</td>\n",
       "    </tr>\n",
       "  </tbody>\n",
       "</table>\n",
       "</div>"
      ],
      "text/plain": [
       "   number          name                                             detail  \\\n",
       "0       1  Andromeda       The Andromeda galaxy, also known as M31, is ...   \n",
       "1       2   Milkyway       The Milky Way[c] is the galaxy that includes...   \n",
       "\n",
       "                 author technology  primary_key  \n",
       "0      Ivan Yefremov        Java              1  \n",
       "1    Dr. Moiya McTier        .NET             2  "
      ]
     },
     "execution_count": 23,
     "metadata": {},
     "output_type": "execute_result"
    }
   ],
   "source": [
    "all_prods_df.head()"
   ]
  },
  {
   "cell_type": "code",
   "execution_count": 24,
   "id": "d89d2962-1bb8-4894-b61b-3f586d293843",
   "metadata": {},
   "outputs": [],
   "source": [
    "product_metadata = ( \n",
    "    all_prods_df\n",
    "     .head(2)\n",
    "     .to_dict(orient='index')\n",
    ")"
   ]
  },
  {
   "cell_type": "code",
   "execution_count": 25,
   "id": "c932540c-cec1-4a19-8d96-1354fa68243f",
   "metadata": {},
   "outputs": [
    {
     "data": {
      "text/plain": [
       "{'number': 1,\n",
       " 'name': 'Andromeda   ',\n",
       " 'detail': '  The Andromeda galaxy, also known as M31, is a spiral galaxy located approximately 2.5 million light-years away from Earth in the constellation Andromeda. It is the closest major galaxy to our own Milky Way galaxy and is a member of the Local Group of galaxies, which also includes the Milky Way, the Triangulum galaxy (M33), and several smaller galaxies and dwarf galaxies.  The Andromeda galaxy has a diameter of about 100,000 light-years and is estimated to contain about 2 trillion stars, making it one of the largest galaxies in the observable universe. It is also home to a variety of other celestial objects, including black holes, supernovae, and planetary nebulae.  The Andromeda galaxy is classified as a barred spiral galaxy, meaning it has a central bar-shaped structure composed of stars and gas. It also has several spiral arms that wind outward from the center, containing many stars, gas, and dust. The galaxy is believed to be rotating rapidly, with stars and gas moving at speeds of up to 300 kilometers per second.  The Andromeda galaxy is also home to a variety of star clusters, which are groups of stars that formed together over time. Some of these clusters are very young, with ages of only a few million years, while others are much older, with ages of billions of years.  In addition to its scientific importance, the Andromeda galaxy is also a popular target for astronomers and Astro photographers due to its brightness and distinctive appearance. It is often visible to the naked eye on clear nights and can be easily observed with a telescope.   ',\n",
       " 'author': '  Ivan Yefremov   ',\n",
       " 'technology': '   Java  ',\n",
       " 'primary_key': 1}"
      ]
     },
     "execution_count": 25,
     "metadata": {},
     "output_type": "execute_result"
    }
   ],
   "source": [
    "product_metadata[0]"
   ]
  },
  {
   "cell_type": "markdown",
   "id": "67d8f6b4-2575-4ced-a1e1-acc984ce26eb",
   "metadata": {},
   "source": [
    "## Setup Redis and Vector DB"
   ]
  },
  {
   "cell_type": "code",
   "execution_count": 26,
   "id": "7199d991-d77f-4447-9abd-09c57d98bc4d",
   "metadata": {},
   "outputs": [],
   "source": [
    "# data that will be embedded and converted to vectors\n",
    "texts = [\n",
    "    v['name'] for k, v in product_metadata.items()\n",
    "]\n"
   ]
  },
  {
   "cell_type": "code",
   "execution_count": 27,
   "id": "e8d2f44d-3b58-4e63-8e9b-b80c39b64b46",
   "metadata": {},
   "outputs": [],
   "source": [
    "metadatas = list(product_metadata.values())"
   ]
  },
  {
   "cell_type": "code",
   "execution_count": 28,
   "id": "cbaed00a-f24c-47ef-9c27-7f5dc8bd7dd4",
   "metadata": {},
   "outputs": [
    {
     "data": {
      "text/plain": [
       "[{'number': 1,\n",
       "  'name': 'Andromeda   ',\n",
       "  'detail': '  The Andromeda galaxy, also known as M31, is a spiral galaxy located approximately 2.5 million light-years away from Earth in the constellation Andromeda. It is the closest major galaxy to our own Milky Way galaxy and is a member of the Local Group of galaxies, which also includes the Milky Way, the Triangulum galaxy (M33), and several smaller galaxies and dwarf galaxies.  The Andromeda galaxy has a diameter of about 100,000 light-years and is estimated to contain about 2 trillion stars, making it one of the largest galaxies in the observable universe. It is also home to a variety of other celestial objects, including black holes, supernovae, and planetary nebulae.  The Andromeda galaxy is classified as a barred spiral galaxy, meaning it has a central bar-shaped structure composed of stars and gas. It also has several spiral arms that wind outward from the center, containing many stars, gas, and dust. The galaxy is believed to be rotating rapidly, with stars and gas moving at speeds of up to 300 kilometers per second.  The Andromeda galaxy is also home to a variety of star clusters, which are groups of stars that formed together over time. Some of these clusters are very young, with ages of only a few million years, while others are much older, with ages of billions of years.  In addition to its scientific importance, the Andromeda galaxy is also a popular target for astronomers and Astro photographers due to its brightness and distinctive appearance. It is often visible to the naked eye on clear nights and can be easily observed with a telescope.   ',\n",
       "  'author': '  Ivan Yefremov   ',\n",
       "  'technology': '   Java  ',\n",
       "  'primary_key': 1},\n",
       " {'number': 2,\n",
       "  'name': 'Milkyway   ',\n",
       "  'detail': '  The Milky Way[c] is the galaxy that includes the Solar System, with the name describing the galaxy\\'s appearance from Earth: a hazy band of light seen in the night sky formed from stars that cannot be individually distinguished by the naked eye. The term Milky Way is a translation of the Latin via lactea, from the Greek γαλαξίας κύκλος (galaxías kýklos), meaning \"milky circle\".[26][27] From Earth, the Milky Way appears as a band because its disk-shaped structure is viewed from within. Galileo Galilei first resolved the band of light into individual stars with his telescope in 1610. Until the early 1920s, most astronomers thought that the Milky Way contained all the stars in the Universe.[28] Following the 1920 Great Debate between the astronomers Harlow Shapley and Heber Doust Curtis,[29] observations by Edwin Hubble showed that the Milky Way is just one of many galaxies.   ',\n",
       "  'author': '  Dr. Moiya McTier  ',\n",
       "  'technology': '   .NET ',\n",
       "  'primary_key': 2}]"
      ]
     },
     "execution_count": 28,
     "metadata": {},
     "output_type": "execute_result"
    }
   ],
   "source": [
    "metadatas"
   ]
  },
  {
   "cell_type": "code",
   "execution_count": 29,
   "id": "d84b1668-c7cc-4bfa-92b1-a2347b940398",
   "metadata": {},
   "outputs": [],
   "source": [
    "from langchain.embeddings.huggingface import HuggingFaceEmbeddings\n",
    "from langchain.vectorstores.redis import Redis as RedisVectorStore\n",
    "from langchain.schema import Document"
   ]
  },
  {
   "cell_type": "code",
   "execution_count": 30,
   "id": "ca9369c9-5493-46bc-a957-fcf17ad6d5b2",
   "metadata": {},
   "outputs": [
    {
     "name": "stderr",
     "output_type": "stream",
     "text": [
      "/opt/app-root/lib64/python3.9/site-packages/tqdm/auto.py:21: TqdmWarning: IProgress not found. Please update jupyter and ipywidgets. See https://ipywidgets.readthedocs.io/en/stable/user_install.html\n",
      "  from .autonotebook import tqdm as notebook_tqdm\n"
     ]
    }
   ],
   "source": [
    "index_name = \"projects\"\n",
    "embedding = HuggingFaceEmbeddings()\n",
    "vectorstore = RedisVectorStore.from_texts(\n",
    "    texts=texts,\n",
    "    metadatas=metadatas,\n",
    "    embedding=embedding,\n",
    "    index_name=index_name,\n",
    "    redis_url=redis_url\n",
    ")"
   ]
  },
  {
   "cell_type": "code",
   "execution_count": 32,
   "id": "93f70fbc-e544-4083-b8ae-f35863bd52e8",
   "metadata": {},
   "outputs": [],
   "source": [
    "vectorstore.write_schema(\"projects_schema.yaml\")"
   ]
  },
  {
   "cell_type": "code",
   "execution_count": null,
   "id": "c56a2acc-f7be-4b66-9ba5-e30aec5e608a",
   "metadata": {},
   "outputs": [],
   "source": []
  }
 ],
 "metadata": {
  "kernelspec": {
   "display_name": "Python 3.9",
   "language": "python",
   "name": "python3"
  },
  "language_info": {
   "codemirror_mode": {
    "name": "ipython",
    "version": 3
   },
   "file_extension": ".py",
   "mimetype": "text/x-python",
   "name": "python",
   "nbconvert_exporter": "python",
   "pygments_lexer": "ipython3",
   "version": "3.9.16"
  }
 },
 "nbformat": 4,
 "nbformat_minor": 5
}
